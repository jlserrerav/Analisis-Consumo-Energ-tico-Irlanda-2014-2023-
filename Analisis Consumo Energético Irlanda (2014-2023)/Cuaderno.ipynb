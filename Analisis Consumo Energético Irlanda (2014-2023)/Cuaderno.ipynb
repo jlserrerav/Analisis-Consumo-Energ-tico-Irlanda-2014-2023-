{
 "cells": [
  {
   "cell_type": "markdown",
   "id": "43b79291",
   "metadata": {},
   "source": [
    "# Limpieza y Transformación Dataset"
   ]
  },
  {
   "cell_type": "code",
   "execution_count": 10,
   "id": "72bb3712",
   "metadata": {},
   "outputs": [
    {
     "name": "stdout",
     "output_type": "stream",
     "text": [
      "<class 'pandas.core.frame.DataFrame'>\n",
      "RangeIndex: 120 entries, 0 to 119\n",
      "Data columns (total 8 columns):\n",
      " #   Column                   Non-Null Count  Dtype \n",
      "---  ------                   --------------  ----- \n",
      " 0   STATISTIC                120 non-null    object\n",
      " 1   Statistic Label          120 non-null    object\n",
      " 2   TLIST(Q1)                120 non-null    object\n",
      " 3   Quarter                  120 non-null    object\n",
      " 4   C03907V04659             120 non-null    object\n",
      " 5   Electricity Consumption  120 non-null    object\n",
      " 6   UNIT                     120 non-null    object\n",
      " 7   VALUE                    120 non-null    int64 \n",
      "dtypes: int64(1), object(7)\n",
      "memory usage: 7.6+ KB\n"
     ]
    },
    {
     "data": {
      "text/html": [
       "<div>\n",
       "<style scoped>\n",
       "    .dataframe tbody tr th:only-of-type {\n",
       "        vertical-align: middle;\n",
       "    }\n",
       "\n",
       "    .dataframe tbody tr th {\n",
       "        vertical-align: top;\n",
       "    }\n",
       "\n",
       "    .dataframe thead th {\n",
       "        text-align: right;\n",
       "    }\n",
       "</style>\n",
       "<table border=\"1\" class=\"dataframe\">\n",
       "  <thead>\n",
       "    <tr style=\"text-align: right;\">\n",
       "      <th></th>\n",
       "      <th>STATISTIC</th>\n",
       "      <th>Statistic Label</th>\n",
       "      <th>TLIST(Q1)</th>\n",
       "      <th>Quarter</th>\n",
       "      <th>C03907V04659</th>\n",
       "      <th>Electricity Consumption</th>\n",
       "      <th>UNIT</th>\n",
       "      <th>VALUE</th>\n",
       "    </tr>\n",
       "  </thead>\n",
       "  <tbody>\n",
       "    <tr>\n",
       "      <th>0</th>\n",
       "      <td>MEC02</td>\n",
       "      <td>Gigawatt hours</td>\n",
       "      <td>2015Q1</td>\n",
       "      <td>2015Q1</td>\n",
       "      <td>-</td>\n",
       "      <td>All metered electricity consumption</td>\n",
       "      <td>GWh</td>\n",
       "      <td>6565</td>\n",
       "    </tr>\n",
       "    <tr>\n",
       "      <th>1</th>\n",
       "      <td>MEC02</td>\n",
       "      <td>Gigawatt hours</td>\n",
       "      <td>2015Q1</td>\n",
       "      <td>2015Q1</td>\n",
       "      <td>10</td>\n",
       "      <td>Data centres</td>\n",
       "      <td>GWh</td>\n",
       "      <td>290</td>\n",
       "    </tr>\n",
       "    <tr>\n",
       "      <th>2</th>\n",
       "      <td>MEC02</td>\n",
       "      <td>Gigawatt hours</td>\n",
       "      <td>2015Q1</td>\n",
       "      <td>2015Q1</td>\n",
       "      <td>20</td>\n",
       "      <td>Customers other than data centres</td>\n",
       "      <td>GWh</td>\n",
       "      <td>6275</td>\n",
       "    </tr>\n",
       "    <tr>\n",
       "      <th>3</th>\n",
       "      <td>MEC02</td>\n",
       "      <td>Gigawatt hours</td>\n",
       "      <td>2015Q2</td>\n",
       "      <td>2015Q2</td>\n",
       "      <td>-</td>\n",
       "      <td>All metered electricity consumption</td>\n",
       "      <td>GWh</td>\n",
       "      <td>6086</td>\n",
       "    </tr>\n",
       "    <tr>\n",
       "      <th>4</th>\n",
       "      <td>MEC02</td>\n",
       "      <td>Gigawatt hours</td>\n",
       "      <td>2015Q2</td>\n",
       "      <td>2015Q2</td>\n",
       "      <td>10</td>\n",
       "      <td>Data centres</td>\n",
       "      <td>GWh</td>\n",
       "      <td>303</td>\n",
       "    </tr>\n",
       "    <tr>\n",
       "      <th>5</th>\n",
       "      <td>MEC02</td>\n",
       "      <td>Gigawatt hours</td>\n",
       "      <td>2015Q2</td>\n",
       "      <td>2015Q2</td>\n",
       "      <td>20</td>\n",
       "      <td>Customers other than data centres</td>\n",
       "      <td>GWh</td>\n",
       "      <td>5783</td>\n",
       "    </tr>\n",
       "    <tr>\n",
       "      <th>6</th>\n",
       "      <td>MEC02</td>\n",
       "      <td>Gigawatt hours</td>\n",
       "      <td>2015Q3</td>\n",
       "      <td>2015Q3</td>\n",
       "      <td>-</td>\n",
       "      <td>All metered electricity consumption</td>\n",
       "      <td>GWh</td>\n",
       "      <td>5783</td>\n",
       "    </tr>\n",
       "    <tr>\n",
       "      <th>7</th>\n",
       "      <td>MEC02</td>\n",
       "      <td>Gigawatt hours</td>\n",
       "      <td>2015Q3</td>\n",
       "      <td>2015Q3</td>\n",
       "      <td>10</td>\n",
       "      <td>Data centres</td>\n",
       "      <td>GWh</td>\n",
       "      <td>316</td>\n",
       "    </tr>\n",
       "    <tr>\n",
       "      <th>8</th>\n",
       "      <td>MEC02</td>\n",
       "      <td>Gigawatt hours</td>\n",
       "      <td>2015Q3</td>\n",
       "      <td>2015Q3</td>\n",
       "      <td>20</td>\n",
       "      <td>Customers other than data centres</td>\n",
       "      <td>GWh</td>\n",
       "      <td>5468</td>\n",
       "    </tr>\n",
       "    <tr>\n",
       "      <th>9</th>\n",
       "      <td>MEC02</td>\n",
       "      <td>Gigawatt hours</td>\n",
       "      <td>2015Q4</td>\n",
       "      <td>2015Q4</td>\n",
       "      <td>-</td>\n",
       "      <td>All metered electricity consumption</td>\n",
       "      <td>GWh</td>\n",
       "      <td>6165</td>\n",
       "    </tr>\n",
       "    <tr>\n",
       "      <th>10</th>\n",
       "      <td>MEC02</td>\n",
       "      <td>Gigawatt hours</td>\n",
       "      <td>2015Q4</td>\n",
       "      <td>2015Q4</td>\n",
       "      <td>10</td>\n",
       "      <td>Data centres</td>\n",
       "      <td>GWh</td>\n",
       "      <td>329</td>\n",
       "    </tr>\n",
       "    <tr>\n",
       "      <th>11</th>\n",
       "      <td>MEC02</td>\n",
       "      <td>Gigawatt hours</td>\n",
       "      <td>2015Q4</td>\n",
       "      <td>2015Q4</td>\n",
       "      <td>20</td>\n",
       "      <td>Customers other than data centres</td>\n",
       "      <td>GWh</td>\n",
       "      <td>5837</td>\n",
       "    </tr>\n",
       "    <tr>\n",
       "      <th>12</th>\n",
       "      <td>MEC02</td>\n",
       "      <td>Gigawatt hours</td>\n",
       "      <td>2016Q1</td>\n",
       "      <td>2016Q1</td>\n",
       "      <td>-</td>\n",
       "      <td>All metered electricity consumption</td>\n",
       "      <td>GWh</td>\n",
       "      <td>6651</td>\n",
       "    </tr>\n",
       "    <tr>\n",
       "      <th>13</th>\n",
       "      <td>MEC02</td>\n",
       "      <td>Gigawatt hours</td>\n",
       "      <td>2016Q1</td>\n",
       "      <td>2016Q1</td>\n",
       "      <td>10</td>\n",
       "      <td>Data centres</td>\n",
       "      <td>GWh</td>\n",
       "      <td>340</td>\n",
       "    </tr>\n",
       "    <tr>\n",
       "      <th>14</th>\n",
       "      <td>MEC02</td>\n",
       "      <td>Gigawatt hours</td>\n",
       "      <td>2016Q1</td>\n",
       "      <td>2016Q1</td>\n",
       "      <td>20</td>\n",
       "      <td>Customers other than data centres</td>\n",
       "      <td>GWh</td>\n",
       "      <td>6311</td>\n",
       "    </tr>\n",
       "  </tbody>\n",
       "</table>\n",
       "</div>"
      ],
      "text/plain": [
       "   STATISTIC Statistic Label TLIST(Q1) Quarter C03907V04659  \\\n",
       "0      MEC02  Gigawatt hours    2015Q1  2015Q1            -   \n",
       "1      MEC02  Gigawatt hours    2015Q1  2015Q1           10   \n",
       "2      MEC02  Gigawatt hours    2015Q1  2015Q1           20   \n",
       "3      MEC02  Gigawatt hours    2015Q2  2015Q2            -   \n",
       "4      MEC02  Gigawatt hours    2015Q2  2015Q2           10   \n",
       "5      MEC02  Gigawatt hours    2015Q2  2015Q2           20   \n",
       "6      MEC02  Gigawatt hours    2015Q3  2015Q3            -   \n",
       "7      MEC02  Gigawatt hours    2015Q3  2015Q3           10   \n",
       "8      MEC02  Gigawatt hours    2015Q3  2015Q3           20   \n",
       "9      MEC02  Gigawatt hours    2015Q4  2015Q4            -   \n",
       "10     MEC02  Gigawatt hours    2015Q4  2015Q4           10   \n",
       "11     MEC02  Gigawatt hours    2015Q4  2015Q4           20   \n",
       "12     MEC02  Gigawatt hours    2016Q1  2016Q1            -   \n",
       "13     MEC02  Gigawatt hours    2016Q1  2016Q1           10   \n",
       "14     MEC02  Gigawatt hours    2016Q1  2016Q1           20   \n",
       "\n",
       "                Electricity Consumption UNIT  VALUE  \n",
       "0   All metered electricity consumption  GWh   6565  \n",
       "1                          Data centres  GWh    290  \n",
       "2     Customers other than data centres  GWh   6275  \n",
       "3   All metered electricity consumption  GWh   6086  \n",
       "4                          Data centres  GWh    303  \n",
       "5     Customers other than data centres  GWh   5783  \n",
       "6   All metered electricity consumption  GWh   5783  \n",
       "7                          Data centres  GWh    316  \n",
       "8     Customers other than data centres  GWh   5468  \n",
       "9   All metered electricity consumption  GWh   6165  \n",
       "10                         Data centres  GWh    329  \n",
       "11    Customers other than data centres  GWh   5837  \n",
       "12  All metered electricity consumption  GWh   6651  \n",
       "13                         Data centres  GWh    340  \n",
       "14    Customers other than data centres  GWh   6311  "
      ]
     },
     "execution_count": 10,
     "metadata": {},
     "output_type": "execute_result"
    }
   ],
   "source": [
    "import pandas as pd\n",
    "\n",
    "dataframe = pd.read_csv('data\\MEC02.20250618152207.csv')\n",
    "\n",
    "dataframe.info()\n",
    "dataframe.describe()\n",
    "dataframe.head(15)\n",
    "\n"
   ]
  },
  {
   "cell_type": "markdown",
   "id": "dc0df078",
   "metadata": {},
   "source": [
    "Tras explorar el dataset y analizar cada columna saco la siguiente informacion. \n",
    "\n",
    "Quarter\t- Fecha en formato tipo \"Q1 2020\" – clave temporal para análisis.  \n",
    "Electricity Consumption\t-\tEs redundante con VALUE, pero puede servir para contexto.\n",
    "VALUE\t-\tDato principal: consumo energético (en GWh).\n",
    "UNIT - Siempre es \"GWh\", pero puede servir para etiquetas.\n",
    "STATISTIC, Statistic Label, TLIST(Q1), C03907V04659\t-  Meta-información o redundante.\n",
    "\n",
    "Voy a limpiar el dataset"
   ]
  },
  {
   "cell_type": "code",
   "execution_count": 2,
   "id": "4a21b7a8",
   "metadata": {},
   "outputs": [
    {
     "name": "stdout",
     "output_type": "stream",
     "text": [
      "Fecha           object\n",
      "unidad          object\n",
      "valor_en_gwh     int64\n",
      "dtype: object\n"
     ]
    }
   ],
   "source": [
    "dataframe= dataframe[['Quarter','UNIT','VALUE']]\n",
    "\n",
    "dataframe.columns = ['Fecha', 'unidad', 'valor_en_gwh']\n",
    "\n",
    "print(dataframe.dtypes)"
   ]
  },
  {
   "cell_type": "markdown",
   "id": "6ebb9594",
   "metadata": {},
   "source": [
    "Para evitar confusion voy a cambiar la fecha"
   ]
  },
  {
   "cell_type": "code",
   "execution_count": 3,
   "id": "03ede656",
   "metadata": {},
   "outputs": [
    {
     "name": "stdout",
     "output_type": "stream",
     "text": [
      "       Fecha unidad  valor_en_gwh\n",
      "0 2015-01-01    GWh          6565\n",
      "1 2015-01-01    GWh           290\n",
      "2 2015-01-01    GWh          6275\n",
      "3 2015-04-01    GWh          6086\n",
      "4 2015-04-01    GWh           303\n"
     ]
    }
   ],
   "source": [
    "# Convertir \"Q1 2020\" a fechas\n",
    "dataframe['Fecha'] = pd.PeriodIndex(dataframe['Fecha'], freq='Q').to_timestamp()\n",
    "\n",
    "# Confirmar resultado\n",
    "print(dataframe.head())\n"
   ]
  },
  {
   "cell_type": "markdown",
   "id": "cc7a59cf",
   "metadata": {},
   "source": [
    "Guardo el dataset limpio"
   ]
  },
  {
   "cell_type": "code",
   "execution_count": 4,
   "id": "031128eb",
   "metadata": {},
   "outputs": [],
   "source": [
    "dataframe.to_csv(\"outputs/dataset_limpio.csv\", index=False)\n"
   ]
  },
  {
   "cell_type": "markdown",
   "id": "4e246657",
   "metadata": {},
   "source": [
    "# Visualización del Consumo Eléctrico"
   ]
  },
  {
   "cell_type": "code",
   "execution_count": 5,
   "id": "e24602be",
   "metadata": {},
   "outputs": [
    {
     "data": {
      "image/png": "[encoded data removed]",
      "text/plain": [
       "<Figure size 1000x500 with 1 Axes>"
      ]
     },
     "metadata": {},
     "output_type": "display_data"
    }
   ],
   "source": [
    "import matplotlib.pyplot as plt\n",
    "\n",
    "plt.figure(figsize=(10, 5))\n",
    "plt.plot(dataframe['Fecha'], dataframe['valor_en_gwh'], marker='o', linestyle='-')\n",
    "plt.title('Consumo eléctrico de data centers por trimestre')\n",
    "plt.xlabel('Fecha')\n",
    "plt.ylabel('Consumo (GWh)')\n",
    "plt.grid(True)\n",
    "plt.tight_layout()\n",
    "plt.show()\n"
   ]
  },
  {
   "cell_type": "markdown",
   "id": "5386b121",
   "metadata": {},
   "source": [
    "Con este gráfico puedo ver como ha avanzado el consumo a los alrgos de los ultimos 10 años"
   ]
  },
  {
   "cell_type": "markdown",
   "id": "cb86b56d",
   "metadata": {},
   "source": [
    "# Creación de nuevas variables"
   ]
  },
  {
   "cell_type": "code",
   "execution_count": 6,
   "id": "fd265301",
   "metadata": {},
   "outputs": [],
   "source": [
    "dataframe['variacion'] = dataframe['valor_en_gwh'].pct_change() * 100\n",
    "dataframe['media_cuatrimestre'] = dataframe['valor_en_gwh'].rolling(window=4).mean()\n",
    "dataframe['nivel_consumo'] = pd.qcut(dataframe['valor_en_gwh'], q=3, labels=['Bajo', 'Medio', 'Alto'])\n",
    "\n"
   ]
  },
  {
   "cell_type": "markdown",
   "id": "22f10d30",
   "metadata": {},
   "source": [
    "He creado dos nuevas columnas, una para valorar la variacion del consumo y otra para sacar una media cuadrimestral del consumo energético"
   ]
  },
  {
   "cell_type": "code",
   "execution_count": 7,
   "id": "234652f9",
   "metadata": {},
   "outputs": [],
   "source": [
    "dataframe.to_csv(\"outputs/dataset_enriquezido.csv\", index=False)\n"
   ]
  }
 ],
 "metadata": {
  "kernelspec": {
   "display_name": "Python 3",
   "language": "python",
   "name": "python3"
  },
  "language_info": {
   "codemirror_mode": {
    "name": "ipython",
    "version": 3
   },
   "file_extension": ".py",
   "mimetype": "text/x-python",
   "name": "python",
   "nbconvert_exporter": "python",
   "pygments_lexer": "ipython3",
   "version": "3.11.0"
  }
 },
 "nbformat": 4,
 "nbformat_minor": 5
}
